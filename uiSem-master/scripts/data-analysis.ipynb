{
 "cells": [
  {
   "cell_type": "code",
   "execution_count": 43,
   "metadata": {},
   "outputs": [],
   "source": [
    "import pandas as pd\n",
    "import math\n",
    "import numpy as np\n",
    "import matplotlib.pyplot as plt\n"
   ]
  },
  {
   "cell_type": "code",
   "execution_count": 44,
   "metadata": {},
   "outputs": [
    {
     "data": {
      "text/html": [
       "<div>\n",
       "<style scoped>\n",
       "    .dataframe tbody tr th:only-of-type {\n",
       "        vertical-align: middle;\n",
       "    }\n",
       "\n",
       "    .dataframe tbody tr th {\n",
       "        vertical-align: top;\n",
       "    }\n",
       "\n",
       "    .dataframe thead th {\n",
       "        text-align: right;\n",
       "    }\n",
       "</style>\n",
       "<table border=\"1\" class=\"dataframe\">\n",
       "  <thead>\n",
       "    <tr style=\"text-align: right;\">\n",
       "      <th></th>\n",
       "      <th>gameTitle</th>\n",
       "      <th>time</th>\n",
       "      <th>gameId</th>\n",
       "    </tr>\n",
       "  </thead>\n",
       "  <tbody>\n",
       "    <tr>\n",
       "      <th>1</th>\n",
       "      <td>The Elder Scrolls V: Skyrim</td>\n",
       "      <td>273.0</td>\n",
       "      <td>72850.0</td>\n",
       "    </tr>\n",
       "    <tr>\n",
       "      <th>3</th>\n",
       "      <td>Fallout 4</td>\n",
       "      <td>87.0</td>\n",
       "      <td>377160.0</td>\n",
       "    </tr>\n",
       "    <tr>\n",
       "      <th>5</th>\n",
       "      <td>Fallout: New Vegas</td>\n",
       "      <td>12.1</td>\n",
       "      <td>22380.0</td>\n",
       "    </tr>\n",
       "    <tr>\n",
       "      <th>7</th>\n",
       "      <td>Left 4 Dead 2</td>\n",
       "      <td>8.9</td>\n",
       "      <td>550.0</td>\n",
       "    </tr>\n",
       "    <tr>\n",
       "      <th>9</th>\n",
       "      <td>HuniePop</td>\n",
       "      <td>8.5</td>\n",
       "      <td>339800.0</td>\n",
       "    </tr>\n",
       "    <tr>\n",
       "      <th>...</th>\n",
       "      <td>...</td>\n",
       "      <td>...</td>\n",
       "      <td>...</td>\n",
       "    </tr>\n",
       "    <tr>\n",
       "      <th>142305</th>\n",
       "      <td>Rogue Legacy</td>\n",
       "      <td>2.6</td>\n",
       "      <td>241600.0</td>\n",
       "    </tr>\n",
       "    <tr>\n",
       "      <th>142307</th>\n",
       "      <td>Magic Duels</td>\n",
       "      <td>2.2</td>\n",
       "      <td>316010.0</td>\n",
       "    </tr>\n",
       "    <tr>\n",
       "      <th>142309</th>\n",
       "      <td>Titan Souls</td>\n",
       "      <td>1.5</td>\n",
       "      <td>297130.0</td>\n",
       "    </tr>\n",
       "    <tr>\n",
       "      <th>142311</th>\n",
       "      <td>Grand Theft Auto Vice City</td>\n",
       "      <td>1.5</td>\n",
       "      <td>12110.0</td>\n",
       "    </tr>\n",
       "    <tr>\n",
       "      <th>142313</th>\n",
       "      <td>RUSH</td>\n",
       "      <td>1.4</td>\n",
       "      <td>38720.0</td>\n",
       "    </tr>\n",
       "  </tbody>\n",
       "</table>\n",
       "<p>53865 rows × 3 columns</p>\n",
       "</div>"
      ],
      "text/plain": [
       "                          gameTitle   time    gameId\n",
       "1       The Elder Scrolls V: Skyrim  273.0   72850.0\n",
       "3                         Fallout 4   87.0  377160.0\n",
       "5                Fallout: New Vegas   12.1   22380.0\n",
       "7                     Left 4 Dead 2    8.9     550.0\n",
       "9                          HuniePop    8.5  339800.0\n",
       "...                             ...    ...       ...\n",
       "142305                 Rogue Legacy    2.6  241600.0\n",
       "142307                  Magic Duels    2.2  316010.0\n",
       "142309                  Titan Souls    1.5  297130.0\n",
       "142311   Grand Theft Auto Vice City    1.5   12110.0\n",
       "142313                         RUSH    1.4   38720.0\n",
       "\n",
       "[53865 rows x 3 columns]"
      ]
     },
     "execution_count": 44,
     "metadata": {},
     "output_type": "execute_result"
    }
   ],
   "source": [
    "df = pd.read_csv(\"../data/steamWithIds-200k.csv\")\n",
    "play = df.loc[(df['playerGameStatus']=='play')].drop(columns = [\"zero\", \"playerId\", \"playerGameStatus\",\"Unnamed: 0\"])\n",
    "play"
   ]
  },
  {
   "cell_type": "code",
   "execution_count": 45,
   "metadata": {},
   "outputs": [],
   "source": [
    "game_info = play.groupby('gameTitle').agg(['mean', 'count']).drop(columns = [('gameId',  'mean'), ('gameId',  'count')])"
   ]
  },
  {
   "cell_type": "code",
   "execution_count": 48,
   "metadata": {},
   "outputs": [
    {
     "data": {
      "text/html": [
       "<div>\n",
       "<style scoped>\n",
       "    .dataframe tbody tr th:only-of-type {\n",
       "        vertical-align: middle;\n",
       "    }\n",
       "\n",
       "    .dataframe tbody tr th {\n",
       "        vertical-align: top;\n",
       "    }\n",
       "\n",
       "    .dataframe thead tr th {\n",
       "        text-align: left;\n",
       "    }\n",
       "\n",
       "    .dataframe thead tr:last-of-type th {\n",
       "        text-align: right;\n",
       "    }\n",
       "</style>\n",
       "<table border=\"1\" class=\"dataframe\">\n",
       "  <thead>\n",
       "    <tr>\n",
       "      <th></th>\n",
       "      <th colspan=\"2\" halign=\"left\">time</th>\n",
       "    </tr>\n",
       "    <tr>\n",
       "      <th></th>\n",
       "      <th>mean</th>\n",
       "      <th>count</th>\n",
       "    </tr>\n",
       "    <tr>\n",
       "      <th>gameTitle</th>\n",
       "      <th></th>\n",
       "      <th></th>\n",
       "    </tr>\n",
       "  </thead>\n",
       "  <tbody>\n",
       "    <tr>\n",
       "      <th>Dota 2</th>\n",
       "      <td>202.785499</td>\n",
       "      <td>4841</td>\n",
       "    </tr>\n",
       "    <tr>\n",
       "      <th>Team Fortress 2</th>\n",
       "      <td>74.762505</td>\n",
       "      <td>2323</td>\n",
       "    </tr>\n",
       "    <tr>\n",
       "      <th>Counter-Strike Global Offensive</th>\n",
       "      <td>234.402033</td>\n",
       "      <td>1377</td>\n",
       "    </tr>\n",
       "    <tr>\n",
       "      <th>Unturned</th>\n",
       "      <td>15.057437</td>\n",
       "      <td>1069</td>\n",
       "    </tr>\n",
       "    <tr>\n",
       "      <th>Left 4 Dead 2</th>\n",
       "      <td>41.943446</td>\n",
       "      <td>801</td>\n",
       "    </tr>\n",
       "    <tr>\n",
       "      <th>...</th>\n",
       "      <td>...</td>\n",
       "      <td>...</td>\n",
       "    </tr>\n",
       "    <tr>\n",
       "      <th>FRACT OSC</th>\n",
       "      <td>0.500000</td>\n",
       "      <td>1</td>\n",
       "    </tr>\n",
       "    <tr>\n",
       "      <th>Shallow Space</th>\n",
       "      <td>0.600000</td>\n",
       "      <td>1</td>\n",
       "    </tr>\n",
       "    <tr>\n",
       "      <th>FLOCK!</th>\n",
       "      <td>0.100000</td>\n",
       "      <td>1</td>\n",
       "    </tr>\n",
       "    <tr>\n",
       "      <th>FIST OF AWESOME</th>\n",
       "      <td>1.300000</td>\n",
       "      <td>1</td>\n",
       "    </tr>\n",
       "    <tr>\n",
       "      <th>Drakensang The River of Time</th>\n",
       "      <td>1.800000</td>\n",
       "      <td>1</td>\n",
       "    </tr>\n",
       "  </tbody>\n",
       "</table>\n",
       "<p>2534 rows × 2 columns</p>\n",
       "</div>"
      ],
      "text/plain": [
       "                                       time      \n",
       "                                       mean count\n",
       "gameTitle                                        \n",
       "Dota 2                           202.785499  4841\n",
       "Team Fortress 2                   74.762505  2323\n",
       "Counter-Strike Global Offensive  234.402033  1377\n",
       "Unturned                          15.057437  1069\n",
       "Left 4 Dead 2                     41.943446   801\n",
       "...                                     ...   ...\n",
       "FRACT OSC                          0.500000     1\n",
       "Shallow Space                      0.600000     1\n",
       "FLOCK!                             0.100000     1\n",
       "FIST OF AWESOME                    1.300000     1\n",
       "Drakensang The River of Time       1.800000     1\n",
       "\n",
       "[2534 rows x 2 columns]"
      ]
     },
     "execution_count": 48,
     "metadata": {},
     "output_type": "execute_result"
    }
   ],
   "source": [
    "game_info = game_info.sort_values(by=[('time',  'count')], ascending=False)\n",
    "game_info"
   ]
  },
  {
   "cell_type": "code",
   "execution_count": 64,
   "metadata": {},
   "outputs": [
    {
     "data": {
      "text/plain": [
       "Text(0, 0.5, 'Number of players')"
      ]
     },
     "execution_count": 64,
     "metadata": {},
     "output_type": "execute_result"
    },
    {
     "data": {
      "image/png": "[encoded data removed]",
      "text/plain": [
       "<Figure size 720x432 with 1 Axes>"
      ]
     },
     "metadata": {
      "needs_background": "light"
     },
     "output_type": "display_data"
    }
   ],
   "source": [
    "game_plot = game_info[0:20]\n",
    "ax = game_plot.plot.bar(y=('time',  'count'), figsize = (10,6),rot=90, legend=False)\n",
    "ax.set_ylabel(\"Number of players\")"
   ]
  },
  {
   "cell_type": "code",
   "execution_count": 67,
   "metadata": {},
   "outputs": [
    {
     "data": {
      "text/plain": [
       "Text(0, 0.5, 'Mean time played (h)')"
      ]
     },
     "execution_count": 67,
     "metadata": {},
     "output_type": "execute_result"
    },
    {
     "data": {
      "image/png": "[encoded data removed]",
      "text/plain": [
       "<Figure size 720x432 with 1 Axes>"
      ]
     },
     "metadata": {
      "needs_background": "light"
     },
     "output_type": "display_data"
    }
   ],
   "source": [
    "ax = game_plot.plot.bar(y=('time',  'mean'), figsize = (10,6),rot=90, legend=False)\n",
    "ax.set_ylabel(\"Mean time played (h)\")"
   ]
  },
  {
   "cell_type": "code",
   "execution_count": null,
   "metadata": {},
   "outputs": [],
   "source": [
    "# rating based on time played... specific for each game\n"
   ]
  }
 ],
 "metadata": {
  "kernelspec": {
   "display_name": "Python 3",
   "language": "python",
   "name": "python3"
  },
  "language_info": {
   "codemirror_mode": {
    "name": "ipython",
    "version": 3
   },
   "file_extension": ".py",
   "mimetype": "text/x-python",
   "name": "python",
   "nbconvert_exporter": "python",
   "pygments_lexer": "ipython3",
   "version": "3.8.5"
  }
 },
 "nbformat": 4,
 "nbformat_minor": 4
}
